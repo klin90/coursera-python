{
 "cells": [
  {
   "cell_type": "code",
   "execution_count": 11,
   "metadata": {
    "collapsed": true,
    "deletable": true,
    "editable": true
   },
   "outputs": [],
   "source": [
    "import matplotlib.pyplot as plt\n",
    "import seaborn as sns\n",
    "import scipy.stats as st\n",
    "import pandas as pd\n",
    "import numpy as np\n",
    "\n",
    "%matplotlib inline\n",
    "plt.style.use('seaborn')"
   ]
  },
  {
   "cell_type": "markdown",
   "metadata": {
    "deletable": true,
    "editable": true
   },
   "source": [
    "# Hypothesis Testing\n",
    "##### October 19, 2017\n",
    "\n",
    "In this lecture, we will discuss Hypothesis Testing, the associated p-values, and the underlying assumptions required.\n",
    "\n",
    "## Table of Contents\n",
    "* The Hypothesis Testing Framework\n",
    "* Hypothesis Tests and $p$-values\n",
    "  * Types of Errors\n",
    "  * Relation to Precision and Recall\n",
    "* The $t$ Test\n",
    "  * The Student $t$ distribution"
   ]
  },
  {
   "cell_type": "markdown",
   "metadata": {
    "deletable": true,
    "editable": true
   },
   "source": [
    "## The Hypothesis Testing Framework\n",
    "Let's explore the question of whether babies born to smoker mothers are more likely to have a low birth weight than those born to non-smoker mothers. The most \"obvious\" way to do this would be to look at every birth (say, in a given year), examine whether the mother was a smoker, and take the average birth weight. However, since looking at every birth in the world is intractable, we'll do our best and, instead, obtain a sample of 1000 live births from North Carolina in 2003.\n",
    "\n",
    "__Hypothesis testing is a method for taking observations in a sample and extrapolating to a population-level conclusion.__\n",
    "\n",
    "Our first step is to phrase the question in terms of _hypotheses_. We'll state the following two:\n",
    "* __Null Hypothesis__: There is no average difference in birth rate between babies born to smoker mothers versus non-smoker mothers.\n",
    "* __Alternative Hypothesis__: There is a difference in birth weight between babies born to smoker mothers versus those born to non-smoker mothers.\n",
    "\n",
    "Observe that the null hypothesis represents a \"status quo\" or \"default\" viewpoint. This is typical. Our alternative hypothesis represents the opposite viewpoint: that there is, in fact, a difference between birth weights based on the mother's respective smoking status.\n",
    "\n",
    "#### Types of Errors\n",
    "Depending on whether we decide to go with the null or the alternative hypothesis as our _conclusion_, there are two possible errors:\n",
    "* If we reject the null hypothesis, there is a chance that it is in fact true.\n",
    "  * This is known as a _false positive_ or a _Type I error_.\n",
    "* If we fail to reject the null hypothesis, there is a chance that it is in fact false.\n",
    "  * This is known as a _false negative_ or a _Type II error_.\n",
    "\n",
    "<img src=\"Slide1.jpg\" alt=\"Drawing\" style=\"width: 540px;\"/>"
   ]
  },
  {
   "cell_type": "markdown",
   "metadata": {
    "deletable": true,
    "editable": true
   },
   "source": [
    "## Hypothesis Tests and p-Values\n",
    "Note how our hypotheses were constructed. Specifically, our _null hypothesis_ was that there was no difference in average birth weight between smoker mothers and non-smoker mothers. In other words, there was \"nothing going on.\"\n",
    "\n",
    "Hence, our goal is to __minimize the Type 1 error__. In other words, we want to minimize the probability of a Type 1 error - that is, rejecting the null hypothesis when it is in fact true. This probability, __known as the p-value__, is also referred to as _statistical significance_.\n",
    "\n",
    "* This statistical significance is not to be confused with \"practical significance\" - in particular, a difference in mean birth weight of 0.01 pounds can be deemed statistically significant with a large enough sample; however, its practical significance may be fairly low.\n",
    "\n",
    "#### Summary of Hypothesis Testing\n",
    "1. Form null and alternative hypotheses.\n",
    "  * Null is a \"status quo\" or something to disprove.\n",
    "2. Assume the null hypothesis is true.\n",
    "3. __Given the null hypothesis__, find the probability of observing data as extreme as our given observations (p-value).\n",
    "4. Based on the p-value, either _reject_ the null hypothesis (low $p$) and conclude the alternative hypothesis, or _fail to reject_ the null hypothesis, and have no conclusion.\n",
    "\n",
    "In particular, we note that:\n",
    "* Failing to reject the null hypothesis does NOT imply a high certainty of the null hypothesis.\n",
    "    * Think criminal trials: We don't \"prove\" innocence, we only fail to find someone guilty (i.e. \"not guilty\" verdict).\n",
    "* Verify all necessary statistical assumptions in Step 3!"
   ]
  },
  {
   "cell_type": "markdown",
   "metadata": {
    "deletable": true,
    "editable": true
   },
   "source": [
    "## Example: t Test\n",
    "For our example case comparing the birth weight of babies by their mothers' smoking statuses, we will perform a hypothesis test to see if there is a difference. First, let's examine the data we are given using a box plot:"
   ]
  },
  {
   "cell_type": "code",
   "execution_count": 6,
   "metadata": {
    "collapsed": false,
    "deletable": true,
    "editable": true
   },
   "outputs": [
    {
     "data": {
      "image/png": "[encoded data removed]",
      "text/plain": [
       "<matplotlib.figure.Figure at 0x7f0ec410ad50>"
      ]
     },
     "metadata": {},
     "output_type": "display_data"
    }
   ],
   "source": [
    "nc = pd.read_csv('nc.csv')\n",
    "plt.figure(figsize=(10, 4))\n",
    "sns.boxplot(x='habit', y='weight', data=nc)\n",
    "plt.show()"
   ]
  },
  {
   "cell_type": "markdown",
   "metadata": {},
   "source": [
    "From the graph, the birth weight of both sets of babies appear to be nearly normal, with the smokers' babies having a slight left skew. The smokers' babies also have a slightly lower birth weight, but it's unclear whether this is due to the smoking status, or simply due to chance.\n",
    "\n",
    "With this in mind, we'll consider our hypotheses from earlier, and reformulate them as follows. Let $\\mu_s$ and $\\mu_n$ be the mean birth weight of babies born to smoking mothers and non-smoking mothers, respectively, _in our population_. Then, we can state:\n",
    "\n",
    "* Null Hypothesis: $\\mu_s - \\mu_n = 0$.\n",
    "* Alternative Hypothesis: $\\mu_s - \\mu_n \\neq 0$.\n",
    "\n",
    "__To perform our Hypothesis Test, we will assume the null hypothesis is true; that is, $\\mu_s = \\mu_n$.__\n",
    "\n",
    "Our question now becomes the following: If the population means are equal, what does this say of our sample means?\n",
    "\n",
    "#### The Student t distribution\n",
    "Given a random variable (in this case, birth weight) with a normal __population__ distribution, suppose we take a __random sample__ of $n$ births. Then, the _sample mean_ is itself a random variable - depending on your random sample.\n",
    "\n",
    "Since the population distribution is normal, the sample mean is also normally distributed. However, it is rare that we have access the population standard deviation.\n",
    "\n",
    "Instead, we use an unbiased estimator - the sample standard deviation - to compute the standard error of the sample mean. Sinre we are taking a difference, we can estimate the standard error of the sample mean as follows:\n",
    "\n",
    "$$SE \\approx \\sqrt{\\frac{s_s^2}{n_s} + \\frac{s_n^2}{n_n}}$$"
   ]
  },
  {
   "cell_type": "code",
   "execution_count": 35,
   "metadata": {
    "collapsed": false
   },
   "outputs": [
    {
     "data": {
      "text/plain": [
       "0.15252370041165506"
      ]
     },
     "execution_count": 35,
     "metadata": {},
     "output_type": "execute_result"
    }
   ],
   "source": [
    "smokers = nc.dropna().loc[nc['habit'] == 'smoker', 'weight']\n",
    "nonsmokers = nc.dropna().loc[nc['habit'] == 'nonsmoker', 'weight']\n",
    "\n",
    "standard_error = np.sqrt(smokers.var() / len(smokers) + nonsmokers.var() / len(nonsmokers))\n",
    "standard_error"
   ]
  },
  {
   "cell_type": "markdown",
   "metadata": {},
   "source": [
    "Given a sample standard deviation $s$, then the __t statistic__\n",
    "\n",
    "$$t = \\frac{\\bar{X} - \\mu}{SE}$$\n",
    "\n",
    "has a Student's t distribution, with degrees of freedom $n - 1$ (where $n$ is sample size). In our case, the distribution has the following PDF:"
   ]
  },
  {
   "cell_type": "code",
   "execution_count": 18,
   "metadata": {
    "collapsed": false
   },
   "outputs": [
    {
     "data": {
      "image/png": "[encoded data removed]",
      "text/plain": [
       "<matplotlib.figure.Figure at 0x7f0e879d7a90>"
      ]
     },
     "metadata": {},
     "output_type": "display_data"
    }
   ],
   "source": [
    "plt.figure(figsize=(10, 4))\n",
    "x = np.linspace(-4, 4, 10000)\n",
    "y = st.t.pdf(x, len(weight) - 1)\n",
    "plt.plot(x, y, label='t dist, 998 DF')\n",
    "plt.legend\n",
    "plt.show()"
   ]
  },
  {
   "cell_type": "markdown",
   "metadata": {},
   "source": [
    "In particular, the $t$ distribution resembles the normal distribution, but with less weight concentrated at the mean.\n",
    "\n",
    "#### Obtaining a p-value\n",
    "In our case, the difference between sample means $\\mu_s$ and $\\mu_d$ appears to be normally distributed, and we can assume the sampling is independent (there are plenty of samples, but not too many). Thus, we can use the t test.\n",
    "\n",
    "__Assuming the null hypothesis is true__, the computed t statistic should be t distributed. With our data, we obtain a value of:"
   ]
  },
  {
   "cell_type": "code",
   "execution_count": 36,
   "metadata": {
    "collapsed": false
   },
   "outputs": [
    {
     "data": {
      "text/plain": [
       "-2.3624604185134768"
      ]
     },
     "execution_count": 36,
     "metadata": {},
     "output_type": "execute_result"
    }
   ],
   "source": [
    "t = (smokers.mean() - nonsmokers.mean()) / standard_error\n",
    "t"
   ]
  },
  {
   "cell_type": "markdown",
   "metadata": {},
   "source": [
    "Finally, our goal is to look for __more__ extreme observations. Since our t statistic is negative, based on the picture of our t distribution, we will take the area under the lower tail of the distribution:"
   ]
  },
  {
   "cell_type": "code",
   "execution_count": 45,
   "metadata": {
    "collapsed": false
   },
   "outputs": [
    {
     "data": {
      "image/png": "[encoded data removed]",
      "text/plain": [
       "<matplotlib.figure.Figure at 0x7f0e873474d0>"
      ]
     },
     "metadata": {},
     "output_type": "display_data"
    }
   ],
   "source": [
    "plt.figure(figsize=(10, 4))\n",
    "x = np.linspace(-4, 4, 10000)\n",
    "y = st.t.pdf(x, len(smokers) - 1)\n",
    "plt.axvline(t, c='C2')\n",
    "plt.fill_between(np.linspace(-4, t, 2000), np.zeros(2000), st.t.pdf(np.linspace(-4, t, 2000), len(smokers) - 1), color='C2')\n",
    "plt.plot(x, y, label='t dist, 998 DF')\n",
    "plt.legend\n",
    "plt.show()"
   ]
  },
  {
   "cell_type": "markdown",
   "metadata": {},
   "source": [
    "This area, the p-value, can be computed easily using SciPy or other analytical software:"
   ]
  },
  {
   "cell_type": "code",
   "execution_count": 48,
   "metadata": {
    "collapsed": false
   },
   "outputs": [
    {
     "data": {
      "text/plain": [
       "0.010247020617896188"
      ]
     },
     "execution_count": 48,
     "metadata": {},
     "output_type": "execute_result"
    }
   ],
   "source": [
    "p = st.t.cdf(t, len(smokers) - 1)\n",
    "p"
   ]
  },
  {
   "cell_type": "markdown",
   "metadata": {},
   "source": [
    "With a p-value of 0.01, we can conclude that if there was no difference in birth weight, then we would only see a discrepancy this large in 1 out of 100 similar experiments. Since this is quite a low chance, we reject the null hypothesis, and conclude that the average birth weight of babies born to smokers is lower than the weight of babies born to non-smokers.\n",
    "\n",
    "* Note that in different domains, we may have different \"threshold\" p-values. This is a subjective figure!"
   ]
  }
 ],
 "metadata": {
  "kernelspec": {
   "display_name": "Python 2",
   "language": "python",
   "name": "python2"
  },
  "language_info": {
   "codemirror_mode": {
    "name": "ipython",
    "version": 2
   },
   "file_extension": ".py",
   "mimetype": "text/x-python",
   "name": "python",
   "nbconvert_exporter": "python",
   "pygments_lexer": "ipython2",
   "version": "2.7.13"
  }
 },
 "nbformat": 4,
 "nbformat_minor": 2
}
