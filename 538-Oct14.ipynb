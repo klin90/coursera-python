{
 "cells": [
  {
   "cell_type": "code",
   "execution_count": 3,
   "metadata": {
    "collapsed": true
   },
   "outputs": [],
   "source": [
    "from collections import defaultdict"
   ]
  },
  {
   "cell_type": "markdown",
   "metadata": {},
   "source": [
    "# 538 October 14 Riddler\n",
    "The key is this strategy. If you are ahead, you should rush; if you are behind, you should pass.\n",
    "\n",
    "Why? Suppose you are ahead 5-0. If you rush, you will need to lose 5 more times than you win to give your lead up. However, if you pass, you will only need to lose 3 more times than you win to give your lead up. Thus, you should rush, to minimize the odds of your opponent catching you. With the reverse logic, if you are behind 0-5, you should pass, so you only need 3 more wins than losses to take the lead back.\n",
    "\n",
    "What is less clear is whether you should pass or rush when the game is tied. Thus, we will investigate all such strategies."
   ]
  },
  {
   "cell_type": "markdown",
   "metadata": {},
   "source": [
    "### Question 1: Opponent rushes, going first."
   ]
  },
  {
   "cell_type": "code",
   "execution_count": 35,
   "metadata": {},
   "outputs": [
    {
     "name": "stdout",
     "output_type": "stream",
     "text": [
      "Chance of winning when passing on ties: 0.5983729313\n",
      "Chance of winning when rushing on ties: 0.5829823330\n"
     ]
    }
   ],
   "source": [
    "scores = defaultdict(int)\n",
    "scores[0] = 1\n",
    "for _ in range(100):\n",
    "    new_scores = defaultdict(int)\n",
    "    for score in scores:\n",
    "        if score <= 0:\n",
    "            new_scores[score - 2] += scores[score] / 2\n",
    "            new_scores[score + 2] += scores[score] / 2\n",
    "        else:\n",
    "            new_scores[score - 1] += scores[score] / 2\n",
    "            new_scores[score + 1] += scores[score] / 2\n",
    "    scores = defaultdict(int)\n",
    "    for score in new_scores:\n",
    "        scores[score - 1] += new_scores[score] / 2\n",
    "        scores[score + 1] += new_scores[score] / 2\n",
    "\n",
    "print('Chance of winning when passing on ties: {:.10f}'.format(sum([scores[score] for score in scores if score > 0])))\n",
    "\n",
    "scores = defaultdict(int)\n",
    "scores[0] = 1\n",
    "for _ in range(100):\n",
    "    new_scores = defaultdict(int)\n",
    "    for score in scores:\n",
    "        if score < 0:\n",
    "            new_scores[score - 2] += scores[score] / 2\n",
    "            new_scores[score + 2] += scores[score] / 2\n",
    "        else:\n",
    "            new_scores[score - 1] += scores[score] / 2\n",
    "            new_scores[score + 1] += scores[score] / 2\n",
    "    scores = defaultdict(int)\n",
    "    for score in new_scores:\n",
    "        scores[score - 1] += new_scores[score] / 2\n",
    "        scores[score + 1] += new_scores[score] / 2\n",
    "\n",
    "print('Chance of winning when rushing on ties: {:.10f}'.format(sum([scores[score] for score in scores if score > 0])))"
   ]
  },
  {
   "cell_type": "markdown",
   "metadata": {},
   "source": [
    "### Question 1: Opponent rushes, going second."
   ]
  },
  {
   "cell_type": "code",
   "execution_count": 36,
   "metadata": {},
   "outputs": [
    {
     "name": "stdout",
     "output_type": "stream",
     "text": [
      "Chance of winning when passing on ties: 0.5958085345\n",
      "Chance of winning when rushing on ties: 0.5984614273\n"
     ]
    }
   ],
   "source": [
    "scores = defaultdict(int)\n",
    "scores[0] = 1\n",
    "for _ in range(100):\n",
    "    new_scores = defaultdict(int)\n",
    "    for score in scores:\n",
    "        new_scores[score - 1] += scores[score] / 2\n",
    "        new_scores[score + 1] += scores[score] / 2\n",
    "    scores = defaultdict(int)\n",
    "    for score in new_scores:\n",
    "        if score >= 0:\n",
    "            scores[score - 2] += new_scores[score] / 2\n",
    "            scores[score + 2] += new_scores[score] / 2\n",
    "        else:\n",
    "            scores[score - 1] += new_scores[score] / 2\n",
    "            scores[score + 1] += new_scores[score] / 2\n",
    "\n",
    "print('Chance of winning when passing on ties: {:.10f}'.format(sum([scores[score] for score in scores if score < 0])))\n",
    "\n",
    "scores = defaultdict(int)\n",
    "scores[0] = 1\n",
    "for _ in range(100):\n",
    "    new_scores = defaultdict(int)\n",
    "    for score in scores:\n",
    "        new_scores[score - 1] += scores[score] / 2\n",
    "        new_scores[score + 1] += scores[score] / 2\n",
    "    scores = defaultdict(int)\n",
    "    for score in new_scores:\n",
    "        if score > 0:\n",
    "            scores[score - 2] += new_scores[score] / 2\n",
    "            scores[score + 2] += new_scores[score] / 2\n",
    "        else:\n",
    "            scores[score - 1] += new_scores[score] / 2\n",
    "            scores[score + 1] += new_scores[score] / 2\n",
    "\n",
    "print('Chance of winning when rushing on ties: {:.10f}'.format(sum([scores[score] for score in scores if score < 0])))"
   ]
  },
  {
   "cell_type": "markdown",
   "metadata": {},
   "source": [
    "### Question 2: Opponent passes, going first."
   ]
  },
  {
   "cell_type": "code",
   "execution_count": 37,
   "metadata": {},
   "outputs": [
    {
     "name": "stdout",
     "output_type": "stream",
     "text": [
      "Chance of winning when passing on ties: 0.5370450022\n",
      "Chance of winning when rushing on ties: 0.5436469571\n"
     ]
    }
   ],
   "source": [
    "scores = defaultdict(int)\n",
    "scores[0] = 1\n",
    "for _ in range(100):\n",
    "    new_scores = defaultdict(int)\n",
    "    for score in scores:\n",
    "        if score <= 0:\n",
    "            new_scores[score - 2] += scores[score] / 2\n",
    "            new_scores[score + 2] += scores[score] / 2\n",
    "        else:\n",
    "            new_scores[score - 1] += scores[score] / 2\n",
    "            new_scores[score + 1] += scores[score] / 2\n",
    "    scores = defaultdict(int)\n",
    "    for score in new_scores:\n",
    "        scores[score - 2] += new_scores[score] / 2\n",
    "        scores[score + 2] += new_scores[score] / 2\n",
    "\n",
    "print('Chance of winning when passing on ties: {:.10f}'.format(sum([scores[score] for score in scores if score > 0])))\n",
    "\n",
    "scores = defaultdict(int)\n",
    "scores[0] = 1\n",
    "for _ in range(100):\n",
    "    new_scores = defaultdict(int)\n",
    "    for score in scores:\n",
    "        if score < 0:\n",
    "            new_scores[score - 2] += scores[score] / 2\n",
    "            new_scores[score + 2] += scores[score] / 2\n",
    "        else:\n",
    "            new_scores[score - 1] += scores[score] / 2\n",
    "            new_scores[score + 1] += scores[score] / 2\n",
    "    scores = defaultdict(int)\n",
    "    for score in new_scores:\n",
    "        scores[score - 2] += new_scores[score] / 2\n",
    "        scores[score + 2] += new_scores[score] / 2\n",
    "\n",
    "print('Chance of winning when rushing on ties: {:.10f}'.format(sum([scores[score] for score in scores if score > 0])))"
   ]
  },
  {
   "cell_type": "markdown",
   "metadata": {},
   "source": [
    "### Question 2: Opponent passes, going second."
   ]
  },
  {
   "cell_type": "code",
   "execution_count": 38,
   "metadata": {},
   "outputs": [
    {
     "name": "stdout",
     "output_type": "stream",
     "text": [
      "Chance of winning when passing on ties: 0.5528447290\n",
      "Chance of winning when rushing on ties: 0.5546760108\n"
     ]
    }
   ],
   "source": [
    "scores = defaultdict(int)\n",
    "scores[0] = 1\n",
    "for _ in range(100):\n",
    "    new_scores = defaultdict(int)\n",
    "    for score in scores:\n",
    "        new_scores[score - 2] += scores[score] / 2\n",
    "        new_scores[score + 2] += scores[score] / 2\n",
    "    scores = defaultdict(int)\n",
    "    for score in new_scores:\n",
    "        if score >= 0:\n",
    "            scores[score - 2] += new_scores[score] / 2\n",
    "            scores[score + 2] += new_scores[score] / 2\n",
    "        else:\n",
    "            scores[score - 1] += new_scores[score] / 2\n",
    "            scores[score + 1] += new_scores[score] / 2\n",
    "\n",
    "print('Chance of winning when passing on ties: {:.10f}'.format(sum([scores[score] for score in scores if score < 0])))\n",
    "\n",
    "scores = defaultdict(int)\n",
    "scores[0] = 1\n",
    "for _ in range(100):\n",
    "    new_scores = defaultdict(int)\n",
    "    for score in scores:\n",
    "        new_scores[score - 2] += scores[score] / 2\n",
    "        new_scores[score + 2] += scores[score] / 2\n",
    "    scores = defaultdict(int)\n",
    "    for score in new_scores:\n",
    "        if score > 0:\n",
    "            scores[score - 2] += new_scores[score] / 2\n",
    "            scores[score + 2] += new_scores[score] / 2\n",
    "        else:\n",
    "            scores[score - 1] += new_scores[score] / 2\n",
    "            scores[score + 1] += new_scores[score] / 2\n",
    "\n",
    "print('Chance of winning when rushing on ties: {:.10f}'.format(sum([scores[score] for score in scores if score < 0])))"
   ]
  },
  {
   "cell_type": "markdown",
   "metadata": {},
   "source": [
    "### Question 3: Finding an optimal strategy\n",
    "Four possibilities:\n",
    "1. Pass on ties, always.\n",
    "2. Pass on ties when going first.\n",
    "3. Pass on ties when going second.\n",
    "4. Rush on ties, always."
   ]
  },
  {
   "cell_type": "code",
   "execution_count": 42,
   "metadata": {},
   "outputs": [
    {
     "name": "stdout",
     "output_type": "stream",
     "text": [
      "P1 and P2 pass on ties:\n",
      "P1 wins with p = 0.4874372234\n",
      "P2 wins with p = 0.4982643283\n",
      "P1 passes, P2 rushes on ties:\n",
      "P1 wins with p = 0.4844757564\n",
      "P2 wins with p = 0.4989884497\n",
      "P1 rushes, P2 passes on ties:\n",
      "P1 wins with p = 0.4874693683\n",
      "P2 wins with p = 0.4977085415\n",
      "P1 and P2 rush on ties:\n",
      "P1 wins with p = 0.4840207914\n",
      "P2 wins with p = 0.4985234889\n"
     ]
    }
   ],
   "source": [
    "scores = defaultdict(int)\n",
    "scores[0] = 1\n",
    "for _ in range(100):\n",
    "    new_scores = defaultdict(int)\n",
    "    for score in scores:\n",
    "        if score <= 0:\n",
    "            new_scores[score - 2] += scores[score] / 2\n",
    "            new_scores[score + 2] += scores[score] / 2\n",
    "        else:\n",
    "            new_scores[score - 1] += scores[score] / 2\n",
    "            new_scores[score + 1] += scores[score] / 2\n",
    "    scores = defaultdict(int)\n",
    "    for score in new_scores:\n",
    "        if score >= 0:\n",
    "            scores[score - 2] += new_scores[score] / 2\n",
    "            scores[score + 2] += new_scores[score] / 2\n",
    "        else:\n",
    "            scores[score - 1] += new_scores[score] / 2\n",
    "            scores[score + 1] += new_scores[score] / 2\n",
    "\n",
    "print('P1 and P2 pass on ties:')\n",
    "print('P1 wins with p = {:.10f}'.format(sum([scores[score] for score in scores if score > 0])))\n",
    "print('P2 wins with p = {:.10f}'.format(sum([scores[score] for score in scores if score < 0])))\n",
    "\n",
    "scores = defaultdict(int)\n",
    "scores[0] = 1\n",
    "for _ in range(100):\n",
    "    new_scores = defaultdict(int)\n",
    "    for score in scores:\n",
    "        if score <= 0:\n",
    "            new_scores[score - 2] += scores[score] / 2\n",
    "            new_scores[score + 2] += scores[score] / 2\n",
    "        else:\n",
    "            new_scores[score - 1] += scores[score] / 2\n",
    "            new_scores[score + 1] += scores[score] / 2\n",
    "    scores = defaultdict(int)\n",
    "    for score in new_scores:\n",
    "        if score > 0:\n",
    "            scores[score - 2] += new_scores[score] / 2\n",
    "            scores[score + 2] += new_scores[score] / 2\n",
    "        else:\n",
    "            scores[score - 1] += new_scores[score] / 2\n",
    "            scores[score + 1] += new_scores[score] / 2\n",
    "\n",
    "print('P1 passes, P2 rushes on ties:')\n",
    "print('P1 wins with p = {:.10f}'.format(sum([scores[score] for score in scores if score > 0])))\n",
    "print('P2 wins with p = {:.10f}'.format(sum([scores[score] for score in scores if score < 0])))\n",
    "\n",
    "scores = defaultdict(int)\n",
    "scores[0] = 1\n",
    "for _ in range(100):\n",
    "    new_scores = defaultdict(int)\n",
    "    for score in scores:\n",
    "        if score < 0:\n",
    "            new_scores[score - 2] += scores[score] / 2\n",
    "            new_scores[score + 2] += scores[score] / 2\n",
    "        else:\n",
    "            new_scores[score - 1] += scores[score] / 2\n",
    "            new_scores[score + 1] += scores[score] / 2\n",
    "    scores = defaultdict(int)\n",
    "    for score in new_scores:\n",
    "        if score >= 0:\n",
    "            scores[score - 2] += new_scores[score] / 2\n",
    "            scores[score + 2] += new_scores[score] / 2\n",
    "        else:\n",
    "            scores[score - 1] += new_scores[score] / 2\n",
    "            scores[score + 1] += new_scores[score] / 2\n",
    "\n",
    "print('P1 rushes, P2 passes on ties:')\n",
    "print('P1 wins with p = {:.10f}'.format(sum([scores[score] for score in scores if score > 0])))\n",
    "print('P2 wins with p = {:.10f}'.format(sum([scores[score] for score in scores if score < 0])))\n",
    "\n",
    "scores = defaultdict(int)\n",
    "scores[0] = 1\n",
    "for _ in range(100):\n",
    "    new_scores = defaultdict(int)\n",
    "    for score in scores:\n",
    "        if score < 0:\n",
    "            new_scores[score - 2] += scores[score] / 2\n",
    "            new_scores[score + 2] += scores[score] / 2\n",
    "        else:\n",
    "            new_scores[score - 1] += scores[score] / 2\n",
    "            new_scores[score + 1] += scores[score] / 2\n",
    "    scores = defaultdict(int)\n",
    "    for score in new_scores:\n",
    "        if score > 0:\n",
    "            scores[score - 2] += new_scores[score] / 2\n",
    "            scores[score + 2] += new_scores[score] / 2\n",
    "        else:\n",
    "            scores[score - 1] += new_scores[score] / 2\n",
    "            scores[score + 1] += new_scores[score] / 2\n",
    "\n",
    "print('P1 and P2 rush on ties:')\n",
    "print('P1 wins with p = {:.10f}'.format(sum([scores[score] for score in scores if score > 0])))\n",
    "print('P2 wins with p = {:.10f}'.format(sum([scores[score] for score in scores if score < 0])))"
   ]
  },
  {
   "cell_type": "markdown",
   "metadata": {},
   "source": [
    "Since both win probs are higher for P2 if P2 rushes on ties; P2 will always rush on ties. Then P1 gains the best chance of winning by passing on ties.\n",
    "\n",
    "Hence the final probabilities are P1 winning with probability 0.4844757564 and P2 winning with probability 0.4989884497."
   ]
  }
 ],
 "metadata": {
  "kernelspec": {
   "display_name": "Python 3",
   "language": "python",
   "name": "python3"
  },
  "language_info": {
   "codemirror_mode": {
    "name": "ipython",
    "version": 3
   },
   "file_extension": ".py",
   "mimetype": "text/x-python",
   "name": "python",
   "nbconvert_exporter": "python",
   "pygments_lexer": "ipython3",
   "version": "3.6.2"
  }
 },
 "nbformat": 4,
 "nbformat_minor": 2
}
