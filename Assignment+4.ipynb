{
 "cells": [
  {
   "cell_type": "markdown",
   "metadata": {},
   "source": [
    "---\n",
    "\n",
    "_You are currently looking at **version 1.1** of this notebook. To download notebooks and datafiles, as well as get help on Jupyter notebooks in the Coursera platform, visit the [Jupyter Notebook FAQ](https://www.coursera.org/learn/python-data-analysis/resources/0dhYG) course resource._\n",
    "\n",
    "---"
   ]
  },
  {
   "cell_type": "code",
   "execution_count": 5,
   "metadata": {
    "collapsed": true
   },
   "outputs": [],
   "source": [
    "import pandas as pd\n",
    "import numpy as np\n",
    "from scipy.stats import ttest_ind"
   ]
  },
  {
   "cell_type": "markdown",
   "metadata": {},
   "source": [
    "# Assignment 4 - Hypothesis Testing\n",
    "This assignment requires more individual learning than previous assignments - you are encouraged to check out the [pandas documentation](http://pandas.pydata.org/pandas-docs/stable/) to find functions or methods you might not have used yet, or ask questions on [Stack Overflow](http://stackoverflow.com/) and tag them as pandas and python related. And of course, the discussion forums are open for interaction with your peers and the course staff.\n",
    "\n",
    "Definitions:\n",
    "* A _quarter_ is a specific three month period, Q1 is January through March, Q2 is April through June, Q3 is July through September, Q4 is October through December.\n",
    "* A _recession_ is defined as starting with two consecutive quarters of GDP decline, and ending with two consecutive quarters of GDP growth.\n",
    "* A _recession bottom_ is the quarter within a recession which had the lowest GDP.\n",
    "* A _university town_ is a city which has a high percentage of university students compared to the total population of the city.\n",
    "\n",
    "**Hypothesis**: University towns have their mean housing prices less effected by recessions. Run a t-test to compare the ratio of the mean price of houses in university towns the quarter before the recession starts compared to the recession bottom. (`price_ratio=quarter_before_recession/recession_bottom`)\n",
    "\n",
    "The following data files are available for this assignment:\n",
    "* From the [Zillow research data site](http://www.zillow.com/research/data/) there is housing data for the United States. In particular the datafile for [all homes at a city level](http://files.zillowstatic.com/research/public/City/City_Zhvi_AllHomes.csv), ```City_Zhvi_AllHomes.csv```, has median home sale prices at a fine grained level.\n",
    "* From the Wikipedia page on college towns is a list of [university towns in the United States](https://en.wikipedia.org/wiki/List_of_college_towns#College_towns_in_the_United_States) which has been copy and pasted into the file ```university_towns.txt```.\n",
    "* From Bureau of Economic Analysis, US Department of Commerce, the [GDP over time](http://www.bea.gov/national/index.htm#gdp) of the United States in current dollars (use the chained value in 2009 dollars), in quarterly intervals, in the file ```gdplev.xls```. For this assignment, only look at GDP data from the first quarter of 2000 onward.\n",
    "\n",
    "Each function in this assignment below is worth 10%, with the exception of ```run_ttest()```, which is worth 50%."
   ]
  },
  {
   "cell_type": "code",
   "execution_count": 214,
   "metadata": {
    "collapsed": false
   },
   "outputs": [],
   "source": [
    "# Use this dictionary to map state names to two letter acronyms\n",
    "states = {'OH': 'Ohio', 'KY': 'Kentucky', 'AS': 'American Samoa', 'NV': 'Nevada', 'WY': 'Wyoming', 'NA': 'National', 'AL': 'Alabama', 'MD': 'Maryland', 'AK': 'Alaska', 'UT': 'Utah', 'OR': 'Oregon', 'MT': 'Montana', 'IL': 'Illinois', 'TN': 'Tennessee', 'DC': 'District of Columbia', 'VT': 'Vermont', 'ID': 'Idaho', 'AR': 'Arkansas', 'ME': 'Maine', 'WA': 'Washington', 'HI': 'Hawaii', 'WI': 'Wisconsin', 'MI': 'Michigan', 'IN': 'Indiana', 'NJ': 'New Jersey', 'AZ': 'Arizona', 'GU': 'Guam', 'MS': 'Mississippi', 'PR': 'Puerto Rico', 'NC': 'North Carolina', 'TX': 'Texas', 'SD': 'South Dakota', 'MP': 'Northern Mariana Islands', 'IA': 'Iowa', 'MO': 'Missouri', 'CT': 'Connecticut', 'WV': 'West Virginia', 'SC': 'South Carolina', 'LA': 'Louisiana', 'KS': 'Kansas', 'NY': 'New York', 'NE': 'Nebraska', 'OK': 'Oklahoma', 'FL': 'Florida', 'CA': 'California', 'CO': 'Colorado', 'PA': 'Pennsylvania', 'DE': 'Delaware', 'NM': 'New Mexico', 'RI': 'Rhode Island', 'MN': 'Minnesota', 'VI': 'Virgin Islands', 'NH': 'New Hampshire', 'MA': 'Massachusetts', 'GA': 'Georgia', 'ND': 'North Dakota', 'VA': 'Virginia'}"
   ]
  },
  {
   "cell_type": "code",
   "execution_count": 164,
   "metadata": {
    "collapsed": false
   },
   "outputs": [],
   "source": [
    "def get_list_of_university_towns():\n",
    "    '''Returns a DataFrame of towns and the states they are in from the \n",
    "    university_towns.txt list. The format of the DataFrame should be:\n",
    "    DataFrame( [ [\"Michigan\", \"Ann Arbor\"], [\"Michigan\", \"Yipsilanti\"] ], \n",
    "    columns=[\"State\", \"RegionName\"]  )\n",
    "    \n",
    "    The following cleaning needs to be done:\n",
    "\n",
    "    1. For \"State\", removing characters from \"[\" to the end.\n",
    "    2. For \"RegionName\", when applicable, removing every character from \" (\" to the end.\n",
    "    3. Depending on how you read the data, you may need to remove newline character '\\n'. '''\n",
    "    ut = pd.read_csv('university_towns.txt', header = None, sep = '\\n', names = ['RegionName'])\n",
    "    ut['HeadFlag'] = ut['RegionName'].str.contains('edit')\n",
    "    ut['RegionName'] = ut['RegionName'].str.replace(r'\\s*\\[.*$', '')\n",
    "    ut['RegionName'] = ut['RegionName'].str.replace(r'\\s*\\(.*$', '')\n",
    "    \n",
    "    ut = ut.assign(State = '')\n",
    "    \n",
    "    for index, row in ut.iterrows():\n",
    "        if row['HeadFlag']:\n",
    "            ut.set_value(index, 'State', row['RegionName'])\n",
    "        else:\n",
    "            ut.set_value(index, 'State', ut.loc[index - 1, 'State'])\n",
    "\n",
    "    # ut['SubFlag'] = ut['RegionName'].str.contains(':')\n",
    "    ut = ut.drop(ut[ut['HeadFlag'] == 1].index, axis = 0)\n",
    "    # ut = ut.drop(ut[ut['SubFlag'] == 1].index, axis = 0)\n",
    "    return ut[['State', 'RegionName']]"
   ]
  },
  {
   "cell_type": "code",
   "execution_count": 32,
   "metadata": {
    "collapsed": false
   },
   "outputs": [],
   "source": [
    "def get_recession_start():\n",
    "    '''Returns the year and quarter of the recession start time as a \n",
    "    string value in a format such as 2005q3'''\n",
    "    GDP = pd.read_excel('gdplev.xls', header = None, skiprows = range(220), parse_cols = 'E, G', names = ['Quarter', 'GDP'])\n",
    "    GDP['Delta'] = GDP['GDP'] - GDP['GDP'].shift(1)\n",
    "    GDP['Decline'] = GDP['Delta'] < 0\n",
    "    GDP['RecessionSt'] = GDP['Decline'] * GDP['Decline'].shift(-1) * (1 - GDP['Decline'].shift(1))\n",
    "    return GDP[GDP['RecessionSt'] == 1]['Quarter'].values[0]"
   ]
  },
  {
   "cell_type": "code",
   "execution_count": 64,
   "metadata": {
    "collapsed": false
   },
   "outputs": [],
   "source": [
    "def get_recession_end():\n",
    "    '''Returns the year and quarter of the recession end time as a \n",
    "    string value in a format such as 2005q3'''\n",
    "    GDP = pd.read_excel('gdplev.xls', header = None, skiprows = range(220), parse_cols = 'E, G', names = ['Quarter', 'GDP'])\n",
    "    GDP['Delta'] = GDP['GDP'] - GDP['GDP'].shift(1)\n",
    "    GDP['Growth'] = GDP['Delta'] > 0\n",
    "    GDP['Decline'] = GDP['Delta'] < 0\n",
    "    GDP['RecessionSt'] = GDP['Decline'] * GDP['Decline'].shift(-1) * (1 - GDP['Decline'].shift(1))\n",
    "    GDP['RecessionEnd'] = GDP['Growth'] * GDP['Growth'].shift(1) * (1 - GDP['Decline'].shift(-1))\n",
    "    stindex = GDP[GDP['RecessionSt'] == 1]['Quarter'].index[0]\n",
    "    return GDP.drop(range(stindex))[GDP['RecessionEnd'] == 1]['Quarter'].values[0]"
   ]
  },
  {
   "cell_type": "code",
   "execution_count": 65,
   "metadata": {
    "collapsed": false
   },
   "outputs": [],
   "source": [
    "def get_recession_bottom():\n",
    "    '''Returns the year and quarter of the recession bottom time as a \n",
    "    string value in a format such as 2005q3'''\n",
    "    GDP = pd.read_excel('gdplev.xls', header = None, skiprows = range(220), parse_cols = 'E, G', names = ['Quarter', 'GDP'])\n",
    "    GDP['Delta'] = GDP['GDP'] - GDP['GDP'].shift(1)\n",
    "    GDP['Growth'] = GDP['Delta'] > 0\n",
    "    GDP['Decline'] = GDP['Delta'] < 0\n",
    "    GDP['RecessionSt'] = GDP['Decline'] * GDP['Decline'].shift(-1) * (1 - GDP['Decline'].shift(1))\n",
    "    GDP['RecessionEnd'] = GDP['Growth'] * GDP['Growth'].shift(1) * (1 - GDP['Decline'].shift(-1))\n",
    "    stindex = GDP[GDP['RecessionSt'] == 1]['Quarter'].index[0]\n",
    "    endindex = GDP.drop(range(stindex))[GDP['RecessionEnd'] == 1]['Quarter'].index[0]\n",
    "    recession = GDP.loc[range(stindex, endindex)]\n",
    "    return recession[recession['GDP'] == recession['GDP'].min()]['Quarter'].values[0]"
   ]
  },
  {
   "cell_type": "code",
   "execution_count": 248,
   "metadata": {
    "collapsed": false
   },
   "outputs": [],
   "source": [
    "def convert_housing_data_to_quarters():\n",
    "    '''Converts the housing data to quarters and returns it as mean \n",
    "    values in a dataframe. This dataframe should be a dataframe with\n",
    "    columns for 2000q1 through 2016q3, and should have a multi-index\n",
    "    in the shape of [\"State\",\"RegionName\"].\n",
    "    \n",
    "    Note: Quarters are defined in the assignment description, they are\n",
    "    not arbitrary three month periods.\n",
    "    \n",
    "    The resulting dataframe should have 67 columns, and 10,730 rows.\n",
    "    '''\n",
    "    housing = pd.read_csv('City_Zhvi_AllHomes.csv', usecols = [1, 2] + list(range(51, 251)))\n",
    "    for i in range(2000, 2016):\n",
    "        for j in range(1, 5):\n",
    "            housing[str(i) + 'q' + str(j)] \\\n",
    "                = housing[[str(i) + '-' + str(1 + 3 * (j - 1)).zfill(2), \\\n",
    "                           str(i) + '-' + str(2 + 3 * (j - 1)).zfill(2), \\\n",
    "                           str(i) + '-' + str(3 + 3 * (j - 1)).zfill(2)]].mean(axis = 1)\n",
    "    housing['2016q1'] = housing[['2016-01', '2016-02', '2016-03']].mean(axis = 1)\n",
    "    housing['2016q2'] = housing[['2016-04', '2016-05', '2016-05']].mean(axis = 1)\n",
    "    housing['2016q3'] = housing[['2016-07', '2016-08']].mean(axis = 1)\n",
    "    housing.drop(housing.columns[2:202], axis = 1, inplace = True)\n",
    "    housing['State'] = housing['State'].map(states)\n",
    "    housing.set_index(['State', 'RegionName'], inplace = True)\n",
    "    return housing"
   ]
  },
  {
   "cell_type": "code",
   "execution_count": 277,
   "metadata": {
    "collapsed": false
   },
   "outputs": [
    {
     "name": "stdout",
     "output_type": "stream",
     "text": [
      "(True, 0.002724063704761164, 'university town')\n"
     ]
    },
    {
     "name": "stderr",
     "output_type": "stream",
     "text": [
      "/opt/conda/lib/python3.5/site-packages/ipykernel/__main__.py:11: UserWarning: Boolean Series key will be reindexed to match DataFrame index.\n"
     ]
    }
   ],
   "source": [
    "def run_ttest():\n",
    "    '''First creates new data showing the decline or growth of housing prices\n",
    "    between the recession start and the recession bottom. Then runs a ttest\n",
    "    comparing the university town values to the non-university towns values, \n",
    "    return whether the alternative hypothesis (that the two groups are the same)\n",
    "    is true or not as well as the p-value of the confidence. \n",
    "    \n",
    "    Return the tuple (different, p, better) where different=True if the t-test is\n",
    "    True at a p<0.01 (we reject the null hypothesis), or different=False if \n",
    "    otherwise (we cannot reject the null hypothesis). The variable p should\n",
    "    be equal to the exact p value returned from scipy.stats.ttest_ind(). The\n",
    "    value for better should be either \"university town\" or \"non-university town\"\n",
    "    depending on which has a lower mean price ratio (which is equivilent to a\n",
    "    reduced market loss).'''\n",
    "    \n",
    "    # import data\n",
    "    housing = convert_housing_data_to_quarters()\n",
    "    ut = get_list_of_university_towns()\n",
    "    \n",
    "    # creates mean price ratio\n",
    "    prerec = housing.columns[housing.columns.get_loc(get_recession_start()) - 1]\n",
    "    botrec = get_recession_bottom()\n",
    "    housing['Ratio'] = housing[prerec].div(housing[botrec])\n",
    "    \n",
    "    # flag for university town\n",
    "    ut = ut.assign(UT = 1)\n",
    "    ut.set_index(['State', 'RegionName'], inplace = True)\n",
    "    housing = housing.merge(ut, how = 'left', left_index = True, right_index = True)\n",
    "    housing['UT'] = housing['UT'].fillna(0)\n",
    "    A = housing[housing['UT'] == 1]['Ratio'].dropna().values\n",
    "    B = housing[housing['UT'] == 0]['Ratio'].dropna().values\n",
    "    \n",
    "    if ttest_ind(A, B)[0] < 0:\n",
    "        better = 'university town'\n",
    "    else:\n",
    "        better = 'non-university town'\n",
    "    \n",
    "    return (ttest_ind(A, B)[1] < 0.01, ttest_ind(A, B)[1], better)\n",
    "    \n",
    "print(run_ttest())"
   ]
  }
 ],
 "metadata": {
  "coursera": {
   "course_slug": "python-data-analysis",
   "graded_item_id": "Il9Fx",
   "launcher_item_id": "TeDW0",
   "part_id": "WGlun"
  },
  "kernelspec": {
   "display_name": "Python 3",
   "language": "python",
   "name": "python3"
  },
  "language_info": {
   "codemirror_mode": {
    "name": "ipython",
    "version": 3
   },
   "file_extension": ".py",
   "mimetype": "text/x-python",
   "name": "python",
   "nbconvert_exporter": "python",
   "pygments_lexer": "ipython3",
   "version": "3.5.2"
  }
 },
 "nbformat": 4,
 "nbformat_minor": 0
}
